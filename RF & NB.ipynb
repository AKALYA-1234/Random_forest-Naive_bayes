{
 "cells": [
  {
   "cell_type": "code",
   "execution_count": 21,
   "id": "c1d896a3-390e-4357-8990-2b5f43995bff",
   "metadata": {},
   "outputs": [],
   "source": [
    "import numpy as np\n",
    "import pandas as pd\n",
    "import matplotlib.pyplot as plt\n",
    "import seaborn as sns\n",
    "from sklearn.model_selection import train_test_split\n",
    "from sklearn.preprocessing import StandardScaler\n",
    "from sklearn.naive_bayes import GaussianNB\n",
    "from sklearn.ensemble import RandomForestClassifier\n",
    "from sklearn.metrics import classification_report, recall_score,precision_score,f1_score,confusion_matrix,accuracy_score,roc_curve, RocCurveDisplay,roc_auc_score"
   ]
  },
  {
   "cell_type": "code",
   "execution_count": 22,
   "id": "0ecb4ab7-6f0a-4fb4-886a-a2f0ded04a42",
   "metadata": {},
   "outputs": [
    {
     "data": {
      "text/html": [
       "<div>\n",
       "<style scoped>\n",
       "    .dataframe tbody tr th:only-of-type {\n",
       "        vertical-align: middle;\n",
       "    }\n",
       "\n",
       "    .dataframe tbody tr th {\n",
       "        vertical-align: top;\n",
       "    }\n",
       "\n",
       "    .dataframe thead th {\n",
       "        text-align: right;\n",
       "    }\n",
       "</style>\n",
       "<table border=\"1\" class=\"dataframe\">\n",
       "  <thead>\n",
       "    <tr style=\"text-align: right;\">\n",
       "      <th></th>\n",
       "      <th>study_hours_per_week</th>\n",
       "      <th>sleep_hours_per_day</th>\n",
       "      <th>attendance_percentage</th>\n",
       "      <th>assignments_completed</th>\n",
       "      <th>final_grade</th>\n",
       "      <th>participation_level_Low</th>\n",
       "      <th>participation_level_Medium</th>\n",
       "      <th>internet_access_Yes</th>\n",
       "      <th>parental_education_High School</th>\n",
       "      <th>parental_education_Master's</th>\n",
       "      <th>parental_education_PhD</th>\n",
       "      <th>extracurricular_Yes</th>\n",
       "      <th>part_time_job_Yes</th>\n",
       "    </tr>\n",
       "  </thead>\n",
       "  <tbody>\n",
       "    <tr>\n",
       "      <th>0</th>\n",
       "      <td>0.527230</td>\n",
       "      <td>0.685236</td>\n",
       "      <td>0.993245</td>\n",
       "      <td>0.222222</td>\n",
       "      <td>71.104897</td>\n",
       "      <td>0.0</td>\n",
       "      <td>1.0</td>\n",
       "      <td>1.0</td>\n",
       "      <td>0.0</td>\n",
       "      <td>0.0</td>\n",
       "      <td>0.0</td>\n",
       "      <td>1.0</td>\n",
       "      <td>0.0</td>\n",
       "    </tr>\n",
       "    <tr>\n",
       "      <th>1</th>\n",
       "      <td>0.421400</td>\n",
       "      <td>0.881883</td>\n",
       "      <td>0.883478</td>\n",
       "      <td>0.555556</td>\n",
       "      <td>62.240021</td>\n",
       "      <td>0.0</td>\n",
       "      <td>1.0</td>\n",
       "      <td>1.0</td>\n",
       "      <td>0.0</td>\n",
       "      <td>0.0</td>\n",
       "      <td>0.0</td>\n",
       "      <td>0.0</td>\n",
       "      <td>0.0</td>\n",
       "    </tr>\n",
       "    <tr>\n",
       "      <th>2</th>\n",
       "      <td>0.552393</td>\n",
       "      <td>0.220286</td>\n",
       "      <td>0.683469</td>\n",
       "      <td>1.000000</td>\n",
       "      <td>65.268855</td>\n",
       "      <td>0.0</td>\n",
       "      <td>1.0</td>\n",
       "      <td>1.0</td>\n",
       "      <td>0.0</td>\n",
       "      <td>0.0</td>\n",
       "      <td>0.0</td>\n",
       "      <td>1.0</td>\n",
       "      <td>0.0</td>\n",
       "    </tr>\n",
       "    <tr>\n",
       "      <th>3</th>\n",
       "      <td>0.698283</td>\n",
       "      <td>0.612594</td>\n",
       "      <td>0.520094</td>\n",
       "      <td>0.222222</td>\n",
       "      <td>66.609921</td>\n",
       "      <td>1.0</td>\n",
       "      <td>0.0</td>\n",
       "      <td>1.0</td>\n",
       "      <td>0.0</td>\n",
       "      <td>0.0</td>\n",
       "      <td>0.0</td>\n",
       "      <td>1.0</td>\n",
       "      <td>0.0</td>\n",
       "    </tr>\n",
       "    <tr>\n",
       "      <th>4</th>\n",
       "      <td>0.405419</td>\n",
       "      <td>0.369871</td>\n",
       "      <td>0.831127</td>\n",
       "      <td>0.333333</td>\n",
       "      <td>58.967484</td>\n",
       "      <td>0.0</td>\n",
       "      <td>1.0</td>\n",
       "      <td>1.0</td>\n",
       "      <td>1.0</td>\n",
       "      <td>0.0</td>\n",
       "      <td>0.0</td>\n",
       "      <td>1.0</td>\n",
       "      <td>0.0</td>\n",
       "    </tr>\n",
       "  </tbody>\n",
       "</table>\n",
       "</div>"
      ],
      "text/plain": [
       "   study_hours_per_week  sleep_hours_per_day  attendance_percentage  \\\n",
       "0              0.527230             0.685236               0.993245   \n",
       "1              0.421400             0.881883               0.883478   \n",
       "2              0.552393             0.220286               0.683469   \n",
       "3              0.698283             0.612594               0.520094   \n",
       "4              0.405419             0.369871               0.831127   \n",
       "\n",
       "   assignments_completed  final_grade  participation_level_Low  \\\n",
       "0               0.222222    71.104897                      0.0   \n",
       "1               0.555556    62.240021                      0.0   \n",
       "2               1.000000    65.268855                      0.0   \n",
       "3               0.222222    66.609921                      1.0   \n",
       "4               0.333333    58.967484                      0.0   \n",
       "\n",
       "   participation_level_Medium  internet_access_Yes  \\\n",
       "0                         1.0                  1.0   \n",
       "1                         1.0                  1.0   \n",
       "2                         1.0                  1.0   \n",
       "3                         0.0                  1.0   \n",
       "4                         1.0                  1.0   \n",
       "\n",
       "   parental_education_High School  parental_education_Master's  \\\n",
       "0                             0.0                          0.0   \n",
       "1                             0.0                          0.0   \n",
       "2                             0.0                          0.0   \n",
       "3                             0.0                          0.0   \n",
       "4                             1.0                          0.0   \n",
       "\n",
       "   parental_education_PhD  extracurricular_Yes  part_time_job_Yes  \n",
       "0                     0.0                  1.0                0.0  \n",
       "1                     0.0                  0.0                0.0  \n",
       "2                     0.0                  1.0                0.0  \n",
       "3                     0.0                  1.0                0.0  \n",
       "4                     0.0                  1.0                0.0  "
      ]
     },
     "execution_count": 22,
     "metadata": {},
     "output_type": "execute_result"
    }
   ],
   "source": [
    "df=pd.read_csv(r\"C:\\Users\\DELL\\Downloads\\student_study_habits.csv\",encoding='latin1')\n",
    "df.head()"
   ]
  },
  {
   "cell_type": "code",
   "execution_count": 23,
   "id": "985e6e2e-898c-4a9b-8327-e429e1578205",
   "metadata": {},
   "outputs": [
    {
     "data": {
      "text/plain": [
       "(500, 13)"
      ]
     },
     "execution_count": 23,
     "metadata": {},
     "output_type": "execute_result"
    }
   ],
   "source": [
    "df.shape"
   ]
  },
  {
   "cell_type": "code",
   "execution_count": 24,
   "id": "ef5cb39f-af12-4daf-abf1-02a04a2604c9",
   "metadata": {},
   "outputs": [
    {
     "data": {
      "text/html": [
       "<div>\n",
       "<style scoped>\n",
       "    .dataframe tbody tr th:only-of-type {\n",
       "        vertical-align: middle;\n",
       "    }\n",
       "\n",
       "    .dataframe tbody tr th {\n",
       "        vertical-align: top;\n",
       "    }\n",
       "\n",
       "    .dataframe thead th {\n",
       "        text-align: right;\n",
       "    }\n",
       "</style>\n",
       "<table border=\"1\" class=\"dataframe\">\n",
       "  <thead>\n",
       "    <tr style=\"text-align: right;\">\n",
       "      <th></th>\n",
       "      <th>study_hours_per_week</th>\n",
       "      <th>sleep_hours_per_day</th>\n",
       "      <th>attendance_percentage</th>\n",
       "      <th>assignments_completed</th>\n",
       "      <th>final_grade</th>\n",
       "      <th>participation_level_Low</th>\n",
       "      <th>participation_level_Medium</th>\n",
       "      <th>internet_access_Yes</th>\n",
       "      <th>parental_education_High School</th>\n",
       "      <th>parental_education_Master's</th>\n",
       "      <th>parental_education_PhD</th>\n",
       "      <th>extracurricular_Yes</th>\n",
       "      <th>part_time_job_Yes</th>\n",
       "    </tr>\n",
       "  </thead>\n",
       "  <tbody>\n",
       "    <tr>\n",
       "      <th>count</th>\n",
       "      <td>500.000000</td>\n",
       "      <td>500.000000</td>\n",
       "      <td>500.000000</td>\n",
       "      <td>500.000000</td>\n",
       "      <td>500.000000</td>\n",
       "      <td>500.000000</td>\n",
       "      <td>500.000000</td>\n",
       "      <td>500.000000</td>\n",
       "      <td>500.000000</td>\n",
       "      <td>500.000000</td>\n",
       "      <td>500.00000</td>\n",
       "      <td>500.000000</td>\n",
       "      <td>500.000000</td>\n",
       "    </tr>\n",
       "    <tr>\n",
       "      <th>mean</th>\n",
       "      <td>0.445603</td>\n",
       "      <td>0.506387</td>\n",
       "      <td>0.684110</td>\n",
       "      <td>0.533556</td>\n",
       "      <td>63.753071</td>\n",
       "      <td>0.202000</td>\n",
       "      <td>0.484000</td>\n",
       "      <td>0.890000</td>\n",
       "      <td>0.268000</td>\n",
       "      <td>0.228000</td>\n",
       "      <td>0.07800</td>\n",
       "      <td>0.618000</td>\n",
       "      <td>0.316000</td>\n",
       "    </tr>\n",
       "    <tr>\n",
       "      <th>std</th>\n",
       "      <td>0.162325</td>\n",
       "      <td>0.194923</td>\n",
       "      <td>0.214918</td>\n",
       "      <td>0.276109</td>\n",
       "      <td>7.114183</td>\n",
       "      <td>0.401894</td>\n",
       "      <td>0.500244</td>\n",
       "      <td>0.313203</td>\n",
       "      <td>0.443361</td>\n",
       "      <td>0.419963</td>\n",
       "      <td>0.26844</td>\n",
       "      <td>0.486363</td>\n",
       "      <td>0.465379</td>\n",
       "    </tr>\n",
       "    <tr>\n",
       "      <th>min</th>\n",
       "      <td>0.000000</td>\n",
       "      <td>0.000000</td>\n",
       "      <td>0.000000</td>\n",
       "      <td>0.000000</td>\n",
       "      <td>40.200403</td>\n",
       "      <td>0.000000</td>\n",
       "      <td>0.000000</td>\n",
       "      <td>0.000000</td>\n",
       "      <td>0.000000</td>\n",
       "      <td>0.000000</td>\n",
       "      <td>0.00000</td>\n",
       "      <td>0.000000</td>\n",
       "      <td>0.000000</td>\n",
       "    </tr>\n",
       "    <tr>\n",
       "      <th>25%</th>\n",
       "      <td>0.327727</td>\n",
       "      <td>0.380942</td>\n",
       "      <td>0.530386</td>\n",
       "      <td>0.333333</td>\n",
       "      <td>58.813933</td>\n",
       "      <td>0.000000</td>\n",
       "      <td>0.000000</td>\n",
       "      <td>1.000000</td>\n",
       "      <td>0.000000</td>\n",
       "      <td>0.000000</td>\n",
       "      <td>0.00000</td>\n",
       "      <td>0.000000</td>\n",
       "      <td>0.000000</td>\n",
       "    </tr>\n",
       "    <tr>\n",
       "      <th>50%</th>\n",
       "      <td>0.446577</td>\n",
       "      <td>0.505706</td>\n",
       "      <td>0.697383</td>\n",
       "      <td>0.555556</td>\n",
       "      <td>63.822553</td>\n",
       "      <td>0.000000</td>\n",
       "      <td>0.000000</td>\n",
       "      <td>1.000000</td>\n",
       "      <td>0.000000</td>\n",
       "      <td>0.000000</td>\n",
       "      <td>0.00000</td>\n",
       "      <td>1.000000</td>\n",
       "      <td>0.000000</td>\n",
       "    </tr>\n",
       "    <tr>\n",
       "      <th>75%</th>\n",
       "      <td>0.550575</td>\n",
       "      <td>0.630248</td>\n",
       "      <td>0.844194</td>\n",
       "      <td>0.777778</td>\n",
       "      <td>68.588277</td>\n",
       "      <td>0.000000</td>\n",
       "      <td>1.000000</td>\n",
       "      <td>1.000000</td>\n",
       "      <td>1.000000</td>\n",
       "      <td>0.000000</td>\n",
       "      <td>0.00000</td>\n",
       "      <td>1.000000</td>\n",
       "      <td>1.000000</td>\n",
       "    </tr>\n",
       "    <tr>\n",
       "      <th>max</th>\n",
       "      <td>1.000000</td>\n",
       "      <td>1.000000</td>\n",
       "      <td>1.000000</td>\n",
       "      <td>1.000000</td>\n",
       "      <td>92.007807</td>\n",
       "      <td>1.000000</td>\n",
       "      <td>1.000000</td>\n",
       "      <td>1.000000</td>\n",
       "      <td>1.000000</td>\n",
       "      <td>1.000000</td>\n",
       "      <td>1.00000</td>\n",
       "      <td>1.000000</td>\n",
       "      <td>1.000000</td>\n",
       "    </tr>\n",
       "  </tbody>\n",
       "</table>\n",
       "</div>"
      ],
      "text/plain": [
       "       study_hours_per_week  sleep_hours_per_day  attendance_percentage  \\\n",
       "count            500.000000           500.000000             500.000000   \n",
       "mean               0.445603             0.506387               0.684110   \n",
       "std                0.162325             0.194923               0.214918   \n",
       "min                0.000000             0.000000               0.000000   \n",
       "25%                0.327727             0.380942               0.530386   \n",
       "50%                0.446577             0.505706               0.697383   \n",
       "75%                0.550575             0.630248               0.844194   \n",
       "max                1.000000             1.000000               1.000000   \n",
       "\n",
       "       assignments_completed  final_grade  participation_level_Low  \\\n",
       "count             500.000000   500.000000               500.000000   \n",
       "mean                0.533556    63.753071                 0.202000   \n",
       "std                 0.276109     7.114183                 0.401894   \n",
       "min                 0.000000    40.200403                 0.000000   \n",
       "25%                 0.333333    58.813933                 0.000000   \n",
       "50%                 0.555556    63.822553                 0.000000   \n",
       "75%                 0.777778    68.588277                 0.000000   \n",
       "max                 1.000000    92.007807                 1.000000   \n",
       "\n",
       "       participation_level_Medium  internet_access_Yes  \\\n",
       "count                  500.000000           500.000000   \n",
       "mean                     0.484000             0.890000   \n",
       "std                      0.500244             0.313203   \n",
       "min                      0.000000             0.000000   \n",
       "25%                      0.000000             1.000000   \n",
       "50%                      0.000000             1.000000   \n",
       "75%                      1.000000             1.000000   \n",
       "max                      1.000000             1.000000   \n",
       "\n",
       "       parental_education_High School  parental_education_Master's  \\\n",
       "count                      500.000000                   500.000000   \n",
       "mean                         0.268000                     0.228000   \n",
       "std                          0.443361                     0.419963   \n",
       "min                          0.000000                     0.000000   \n",
       "25%                          0.000000                     0.000000   \n",
       "50%                          0.000000                     0.000000   \n",
       "75%                          1.000000                     0.000000   \n",
       "max                          1.000000                     1.000000   \n",
       "\n",
       "       parental_education_PhD  extracurricular_Yes  part_time_job_Yes  \n",
       "count               500.00000           500.000000         500.000000  \n",
       "mean                  0.07800             0.618000           0.316000  \n",
       "std                   0.26844             0.486363           0.465379  \n",
       "min                   0.00000             0.000000           0.000000  \n",
       "25%                   0.00000             0.000000           0.000000  \n",
       "50%                   0.00000             1.000000           0.000000  \n",
       "75%                   0.00000             1.000000           1.000000  \n",
       "max                   1.00000             1.000000           1.000000  "
      ]
     },
     "execution_count": 24,
     "metadata": {},
     "output_type": "execute_result"
    }
   ],
   "source": [
    "df.describe()"
   ]
  },
  {
   "cell_type": "code",
   "execution_count": 25,
   "id": "099f47a3-149a-4ae0-95f4-796614617d7e",
   "metadata": {},
   "outputs": [
    {
     "name": "stdout",
     "output_type": "stream",
     "text": [
      "<class 'pandas.core.frame.DataFrame'>\n",
      "RangeIndex: 500 entries, 0 to 499\n",
      "Data columns (total 13 columns):\n",
      " #   Column                          Non-Null Count  Dtype  \n",
      "---  ------                          --------------  -----  \n",
      " 0   study_hours_per_week            500 non-null    float64\n",
      " 1   sleep_hours_per_day             500 non-null    float64\n",
      " 2   attendance_percentage           500 non-null    float64\n",
      " 3   assignments_completed           500 non-null    float64\n",
      " 4   final_grade                     500 non-null    float64\n",
      " 5   participation_level_Low         500 non-null    float64\n",
      " 6   participation_level_Medium      500 non-null    float64\n",
      " 7   internet_access_Yes             500 non-null    float64\n",
      " 8   parental_education_High School  500 non-null    float64\n",
      " 9   parental_education_Master's     500 non-null    float64\n",
      " 10  parental_education_PhD          500 non-null    float64\n",
      " 11  extracurricular_Yes             500 non-null    float64\n",
      " 12  part_time_job_Yes               500 non-null    float64\n",
      "dtypes: float64(13)\n",
      "memory usage: 50.9 KB\n"
     ]
    }
   ],
   "source": [
    "df.info()"
   ]
  },
  {
   "cell_type": "code",
   "execution_count": 26,
   "id": "7d62affb-cebd-469b-acb2-13e1214df6dc",
   "metadata": {},
   "outputs": [
    {
     "data": {
      "text/plain": [
       "study_hours_per_week              0\n",
       "sleep_hours_per_day               0\n",
       "attendance_percentage             0\n",
       "assignments_completed             0\n",
       "final_grade                       0\n",
       "participation_level_Low           0\n",
       "participation_level_Medium        0\n",
       "internet_access_Yes               0\n",
       "parental_education_High School    0\n",
       "parental_education_Master's       0\n",
       "parental_education_PhD            0\n",
       "extracurricular_Yes               0\n",
       "part_time_job_Yes                 0\n",
       "dtype: int64"
      ]
     },
     "execution_count": 26,
     "metadata": {},
     "output_type": "execute_result"
    }
   ],
   "source": [
    "df.isnull().sum()"
   ]
  },
  {
   "cell_type": "code",
   "execution_count": 27,
   "id": "4ce80b8d-4fc9-4eb1-8453-c0cd5af0507d",
   "metadata": {},
   "outputs": [
    {
     "name": "stdout",
     "output_type": "stream",
     "text": [
      "0\n"
     ]
    }
   ],
   "source": [
    "duplicates=df.duplicated().sum()\n",
    "print(duplicates)"
   ]
  },
  {
   "cell_type": "code",
   "execution_count": 28,
   "id": "ed85b229-a382-480c-befb-712825ab2478",
   "metadata": {},
   "outputs": [
    {
     "name": "stdout",
     "output_type": "stream",
     "text": [
      "(500, 13)\n"
     ]
    }
   ],
   "source": [
    "df=df.drop_duplicates()\n",
    "print(df.shape)"
   ]
  },
  {
   "cell_type": "code",
   "execution_count": 29,
   "id": "133a4f71-14f5-43d3-823b-f3e74f7ad623",
   "metadata": {},
   "outputs": [],
   "source": [
    "df.fillna(df.median(numeric_only=True), inplace=True)"
   ]
  },
  {
   "cell_type": "markdown",
   "id": "22bcdde0-c85d-46e5-b015-f5c14ca456e4",
   "metadata": {},
   "source": [
    "EDA:"
   ]
  },
  {
   "cell_type": "code",
   "execution_count": 30,
   "id": "eec1db87-b028-4563-955f-d0d198b9cf25",
   "metadata": {},
   "outputs": [],
   "source": [
    "df['pass_fail'] = (df['final_grade'] >= 50).astype(int)"
   ]
  },
  {
   "cell_type": "code",
   "execution_count": 31,
   "id": "53e51c4e-bb73-4cb7-aa71-cad0f1ad4bb5",
   "metadata": {},
   "outputs": [
    {
     "data": {
      "image/png": "[encoded data removed]",
      "text/plain": [
       "<Figure size 600x500 with 1 Axes>"
      ]
     },
     "metadata": {},
     "output_type": "display_data"
    }
   ],
   "source": [
    "plt.figure(figsize=(6,5))\n",
    "sns.countplot(x=\"pass_fail\",hue=\"pass_fail\", data=df, palette=\"Set2\",legend=False)\n",
    "\n",
    "plt.title(\"Pass vs Fail Distribution\")\n",
    "plt.xlabel(\"Pass_Fail (1 = Pass, 0 = Fail)\")\n",
    "plt.ylabel(\"Number of Students\")\n",
    "plt.show()"
   ]
  },
  {
   "cell_type": "code",
   "execution_count": 32,
   "id": "902168e9-45c1-48a0-a1e7-1ee7ad311d5c",
   "metadata": {},
   "outputs": [
    {
     "data": {
      "image/png": "[encoded data removed]",
      "text/plain": [
       "<Figure size 600x600 with 1 Axes>"
      ]
     },
     "metadata": {},
     "output_type": "display_data"
    }
   ],
   "source": [
    "plt.figure(figsize=(6,6))\n",
    "df['pass_fail'].value_counts().plot(\n",
    "    kind='pie',\n",
    "    labels=['Pass','Fail'],\n",
    "    autopct='%1.1f%%',\n",
    "    colors=['skyblue','salmon'],\n",
    "    startangle=90,\n",
    "    wedgeprops={'edgecolor':'black'}\n",
    ")\n",
    "plt.title(\"Pass vs Fail Distribution (Pie Chart)\")\n",
    "plt.ylabel(\"\")\n",
    "plt.show()"
   ]
  },
  {
   "cell_type": "code",
   "execution_count": 33,
   "id": "3bba8a62-1b79-497a-b41c-07ebfec1409b",
   "metadata": {},
   "outputs": [],
   "source": [
    "if \"final_grade\" in df.columns:\n",
    "    df[\"pass_fail\"] = (df[\"final_grade\"] >= 50).astype(int)"
   ]
  },
  {
   "cell_type": "code",
   "execution_count": 34,
   "id": "18fe2cf3-122a-44b3-bdb0-f6c7462d2f14",
   "metadata": {},
   "outputs": [],
   "source": [
    "X = df[[\"study_hours_per_week\", \"attendance_percentage\",\n",
    "        \"assignments_completed\", \"sleep_hours_per_day\"]]\n",
    "y = df[\"pass_fail\"]"
   ]
  },
  {
   "cell_type": "code",
   "execution_count": 35,
   "id": "0af5569d-73f9-4887-a230-725fda71aef4",
   "metadata": {},
   "outputs": [
    {
     "name": "stdout",
     "output_type": "stream",
     "text": [
      "Random Forest Accuracy: 0.97\n",
      "Naive Bayes Accuracy: 0.96\n",
      "\n",
      "Random Forest Report:\n",
      "               precision    recall  f1-score   support\n",
      "\n",
      "           0       1.00      0.25      0.40         4\n",
      "           1       0.97      1.00      0.98        96\n",
      "\n",
      "    accuracy                           0.97       100\n",
      "   macro avg       0.98      0.62      0.69       100\n",
      "weighted avg       0.97      0.97      0.96       100\n",
      "\n",
      "Naive Bayes Report:\n",
      "               precision    recall  f1-score   support\n",
      "\n",
      "           0       0.00      0.00      0.00         4\n",
      "           1       0.96      1.00      0.98        96\n",
      "\n",
      "    accuracy                           0.96       100\n",
      "   macro avg       0.48      0.50      0.49       100\n",
      "weighted avg       0.92      0.96      0.94       100\n",
      "\n"
     ]
    },
    {
     "name": "stderr",
     "output_type": "stream",
     "text": [
      "C:\\Users\\DELL\\anaconda3\\Lib\\site-packages\\sklearn\\metrics\\_classification.py:1565: UndefinedMetricWarning: Precision is ill-defined and being set to 0.0 in labels with no predicted samples. Use `zero_division` parameter to control this behavior.\n",
      "  _warn_prf(average, modifier, f\"{metric.capitalize()} is\", len(result))\n",
      "C:\\Users\\DELL\\anaconda3\\Lib\\site-packages\\sklearn\\metrics\\_classification.py:1565: UndefinedMetricWarning: Precision is ill-defined and being set to 0.0 in labels with no predicted samples. Use `zero_division` parameter to control this behavior.\n",
      "  _warn_prf(average, modifier, f\"{metric.capitalize()} is\", len(result))\n",
      "C:\\Users\\DELL\\anaconda3\\Lib\\site-packages\\sklearn\\metrics\\_classification.py:1565: UndefinedMetricWarning: Precision is ill-defined and being set to 0.0 in labels with no predicted samples. Use `zero_division` parameter to control this behavior.\n",
      "  _warn_prf(average, modifier, f\"{metric.capitalize()} is\", len(result))\n"
     ]
    }
   ],
   "source": [
    "X_train, X_test, y_train, y_test = train_test_split(X, y, test_size=0.2, random_state=42)\n",
    "\n",
    "rf = RandomForestClassifier(random_state=42)\n",
    "nb = GaussianNB()\n",
    "\n",
    "rf.fit(X_train, y_train)\n",
    "nb.fit(X_train, y_train)\n",
    "\n",
    "rf_pred = rf.predict(X_test)\n",
    "nb_pred = nb.predict(X_test)\n",
    "\n",
    "rf_proba = rf.predict_proba(X_test)[:,1]\n",
    "nb_proba = nb.predict_proba(X_test)[:,1]\n",
    "\n",
    "print(\"Random Forest Accuracy:\", accuracy_score(y_test, rf_pred))\n",
    "print(\"Naive Bayes Accuracy:\", accuracy_score(y_test, nb_pred))\n",
    "print(\"\\nRandom Forest Report:\\n\", classification_report(y_test, rf_pred))\n",
    "print(\"Naive Bayes Report:\\n\", classification_report(y_test, nb_pred))"
   ]
  },
  {
   "cell_type": "code",
   "execution_count": 36,
   "id": "9e236b1e-1b97-4bd0-8a05-7a67930709e8",
   "metadata": {},
   "outputs": [
    {
     "data": {
      "text/plain": [
       "<Figure size 600x600 with 0 Axes>"
      ]
     },
     "metadata": {},
     "output_type": "display_data"
    },
    {
     "data": {
      "image/png": "[encoded data removed]",
      "text/plain": [
       "<Figure size 640x480 with 1 Axes>"
      ]
     },
     "metadata": {},
     "output_type": "display_data"
    },
    {
     "data": {
      "image/png": "[encoded data removed]",
      "text/plain": [
       "<Figure size 640x480 with 1 Axes>"
      ]
     },
     "metadata": {},
     "output_type": "display_data"
    }
   ],
   "source": [
    "plt.figure(figsize=(6,6))\n",
    "RocCurveDisplay.from_predictions(y_test, rf_proba, name=\"Random Forest\", color=\"blue\")\n",
    "RocCurveDisplay.from_predictions(y_test, nb_proba, name=\"Naive Bayes\", color=\"green\")\n",
    "plt.plot([0,1],[0,1],'k--')\n",
    "plt.title(\"ROC Curve - Random Forest vs Naive Bayes\")\n",
    "plt.show()\n"
   ]
  },
  {
   "cell_type": "code",
   "execution_count": 42,
   "id": "52e3934f-3555-487a-bc5d-6ce1320a4b9f",
   "metadata": {},
   "outputs": [],
   "source": [
    "new_student = pd.DataFrame([{\n",
    "    \"study_hours_per_week\": 0.238285993,\n",
    "    \"attendance_percentage\": 0.416197081,\n",
    "    \"assignments_completed\": 0.222222222,\n",
    "    \"sleep_hours_per_day\": 0,\n",
    "}])"
   ]
  },
  {
   "cell_type": "code",
   "execution_count": 43,
   "id": "0ad26bd9-d390-4ce4-90cf-596fdd384f6c",
   "metadata": {},
   "outputs": [
    {
     "name": "stdout",
     "output_type": "stream",
     "text": [
      "\n",
      "Prediction for new student:\n",
      "Random Forest: Fail\n",
      "Naive Bayes: Fail\n"
     ]
    }
   ],
   "source": [
    "rf_prediction = rf.predict(new_student)[0]\n",
    "nb_prediction = nb.predict(new_student)[0]\n",
    "\n",
    "print(\"\\nPrediction for new student:\")\n",
    "print(\"Random Forest:\", \"Pass\" if rf_prediction==1 else \"Fail\")\n",
    "print(\"Naive Bayes:\", \"Pass\" if nb_prediction==1 else \"Fail\")"
   ]
  },
  {
   "cell_type": "code",
   "execution_count": null,
   "id": "53f4364c-16f2-4ec2-8caa-01fbf80d9146",
   "metadata": {},
   "outputs": [],
   "source": []
  }
 ],
 "metadata": {
  "kernelspec": {
   "display_name": "Python 3 (ipykernel)",
   "language": "python",
   "name": "python3"
  },
  "language_info": {
   "codemirror_mode": {
    "name": "ipython",
    "version": 3
   },
   "file_extension": ".py",
   "mimetype": "text/x-python",
   "name": "python",
   "nbconvert_exporter": "python",
   "pygments_lexer": "ipython3",
   "version": "3.13.5"
  }
 },
 "nbformat": 4,
 "nbformat_minor": 5
}
