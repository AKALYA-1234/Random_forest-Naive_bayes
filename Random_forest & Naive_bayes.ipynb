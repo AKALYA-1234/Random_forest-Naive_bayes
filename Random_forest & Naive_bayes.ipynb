{
 "cells": [
  {
   "cell_type": "code",
   "execution_count": null,
   "id": "c392fc9b-0387-44b1-b09c-786294b635a6",
   "metadata": {},
   "outputs": [],
   "source": [
    "import numpy as np\n",
    "import pandas as pd\n",
    "import matplotlib.pyplot as plt\n",
    "import seaborn as sns\n",
    "from sklearn.model_selection import train_test_split\n",
    "from sklearn.preprocessing import StandardScaler\n",
    "from sklearn.naive_bayes import GaussianNB\n",
    "from sklearn.ensemble import RandomForestClassifier\n",
    "from sklearn.metrics import classification_report, recall_score,precision_score,f1_score,confusion_matrix,accuracy_score,roc_curve, RocCurveDisplay,roc_auc_score"
   ]
  },
  {
   "cell_type": "code",
   "execution_count": null,
   "id": "67442049-e1f9-4237-a803-15e3ffc23513",
   "metadata": {},
   "outputs": [],
   "source": [
    "df=pd.read_csv(r\"C:\\Users\\DELL\\Downloads\\student_study_habits.csv\",encoding='latin1')\n",
    "df.head()"
   ]
  },
  {
   "cell_type": "code",
   "execution_count": null,
   "id": "5d756bcd-1cf2-4119-881b-1b6c95fb4b2d",
   "metadata": {},
   "outputs": [],
   "source": [
    "df.shape"
   ]
  },
  {
   "cell_type": "code",
   "execution_count": null,
   "id": "46591383-1a31-4a6a-87b4-a4d6edd29b59",
   "metadata": {},
   "outputs": [],
   "source": [
    "df.describe()"
   ]
  },
  {
   "cell_type": "code",
   "execution_count": null,
   "id": "038c1c52-4dc3-4de6-9524-7b568ab21eca",
   "metadata": {},
   "outputs": [],
   "source": [
    "df.info()"
   ]
  },
  {
   "cell_type": "code",
   "execution_count": null,
   "id": "4bde0ee1-c9c3-49be-9b2c-1373cf586005",
   "metadata": {},
   "outputs": [],
   "source": [
    "df.isnull().sum()"
   ]
  },
  {
   "cell_type": "code",
   "execution_count": null,
   "id": "8fbc48b4-1989-4147-92c9-6514bac0509c",
   "metadata": {},
   "outputs": [],
   "source": [
    "duplicates=df.duplicated().sum()\n",
    "print(duplicates)"
   ]
  },
  {
   "cell_type": "code",
   "execution_count": null,
   "id": "cf32901f-ca30-4425-920c-a1707d5d1dd5",
   "metadata": {},
   "outputs": [],
   "source": [
    "df=df.drop_duplicates()\n",
    "print(df.shape)"
   ]
  },
  {
   "cell_type": "code",
   "execution_count": null,
   "id": "aaa8b206-4ce5-4b28-a3e9-90626ae3501d",
   "metadata": {},
   "outputs": [],
   "source": [
    "df.fillna(df.median(numeric_only=True), inplace=True)"
   ]
  },
  {
   "cell_type": "code",
   "execution_count": null,
   "id": "03b852a8-6121-4812-8a4a-36df5d00a3a7",
   "metadata": {},
   "outputs": [],
   "source": [
    "df['pass_fail'] = (df['final_grade'] >= 50).astype(int)"
   ]
  },
  {
   "cell_type": "code",
   "execution_count": null,
   "id": "376c2a90-be14-4774-b0a7-4d124b53f754",
   "metadata": {},
   "outputs": [],
   "source": [
    "plt.figure(figsize=(6,5))\n",
    "sns.countplot(x=\"pass_fail\",hue=\"pass_fail\", data=df, palette=\"Set2\",legend=False)\n",
    "\n",
    "plt.title(\"Pass vs Fail Distribution\")\n",
    "plt.xlabel(\"Pass_Fail (1 = Pass, 0 = Fail)\")\n",
    "plt.ylabel(\"Number of Students\")\n",
    "plt.show()"
   ]
  },
  {
   "cell_type": "code",
   "execution_count": null,
   "id": "57cd7f69-4e36-4125-b53c-a59194340dbf",
   "metadata": {},
   "outputs": [],
   "source": [
    "plt.figure(figsize=(6,6))\n",
    "df['pass_fail'].value_counts().plot(\n",
    "    kind='pie',\n",
    "    labels=['Pass','Fail'],\n",
    "    autopct='%1.1f%%',\n",
    "    colors=['skyblue','salmon'],\n",
    "    startangle=90,\n",
    "    wedgeprops={'edgecolor':'black'}\n",
    ")\n",
    "plt.title(\"Pass vs Fail Distribution (Pie Chart)\")\n",
    "plt.ylabel(\"\")\n",
    "plt.show()"
   ]
  },
  {
   "cell_type": "code",
   "execution_count": null,
   "id": "201e95a5-1a20-47f3-a561-731c49f2e6f8",
   "metadata": {},
   "outputs": [],
   "source": [
    "if \"final_grade\" in df.columns:\n",
    "    df[\"pass_fail\"] = (df[\"final_grade\"] >= 50).astype(int)"
   ]
  },
  {
   "cell_type": "code",
   "execution_count": null,
   "id": "0cd0439f-4a5d-43e2-b9fd-e487669e47a5",
   "metadata": {},
   "outputs": [],
   "source": [
    "X = df[[\"study_hours_per_week\", \"attendance_percentage\",\n",
    "        \"assignments_completed\", \"sleep_hours_per_day\"]]\n",
    "y = df[\"pass_fail\"]"
   ]
  },
  {
   "cell_type": "code",
   "execution_count": null,
   "id": "c602ee39-a2cc-4908-b99f-8b01e7024323",
   "metadata": {},
   "outputs": [],
   "source": [
    "X_train, X_test, y_train, y_test = train_test_split(X, y, test_size=0.2, random_state=42)\n",
    "\n",
    "rf = RandomForestClassifier(random_state=42)\n",
    "nb = GaussianNB()\n",
    "\n",
    "rf.fit(X_train, y_train)\n",
    "nb.fit(X_train, y_train)\n",
    "\n",
    "rf_pred = rf.predict(X_test)\n",
    "nb_pred = nb.predict(X_test)\n",
    "\n",
    "rf_proba = rf.predict_proba(X_test)[:,1]\n",
    "nb_proba = nb.predict_proba(X_test)[:,1]\n",
    "\n",
    "print(\"Random Forest Accuracy:\", accuracy_score(y_test, rf_pred))\n",
    "print(\"Naive Bayes Accuracy:\", accuracy_score(y_test, nb_pred))\n",
    "print(\"\\nRandom Forest Report:\\n\", classification_report(y_test, rf_pred))\n",
    "print(\"Naive Bayes Report:\\n\", classification_report(y_test, nb_pred))"
   ]
  },
  {
   "cell_type": "code",
   "execution_count": null,
   "id": "58ef357c-209b-4683-9d15-88b392c14c8c",
   "metadata": {},
   "outputs": [],
   "source": [
    "plt.figure(figsize=(6,6))\n",
    "RocCurveDisplay.from_predictions(y_test, rf_proba, name=\"Random Forest\", color=\"blue\")\n",
    "RocCurveDisplay.from_predictions(y_test, nb_proba, name=\"Naive Bayes\", color=\"green\")\n",
    "plt.plot([0,1],[0,1],'k--')\n",
    "plt.title(\"ROC Curve - Random Forest vs Naive Bayes\")\n",
    "plt.show()\n"
   ]
  },
  {
   "cell_type": "code",
   "execution_count": null,
   "id": "65199f8a-be82-4aa9-a9a1-a09662b624da",
   "metadata": {},
   "outputs": [],
   "source": []
  }
 ],
 "metadata": {
  "kernelspec": {
   "display_name": "Python 3 (ipykernel)",
   "language": "python",
   "name": "python3"
  },
  "language_info": {
   "codemirror_mode": {
    "name": "ipython",
    "version": 3
   },
   "file_extension": ".py",
   "mimetype": "text/x-python",
   "name": "python",
   "nbconvert_exporter": "python",
   "pygments_lexer": "ipython3",
   "version": "3.13.5"
  }
 },
 "nbformat": 4,
 "nbformat_minor": 5
}
